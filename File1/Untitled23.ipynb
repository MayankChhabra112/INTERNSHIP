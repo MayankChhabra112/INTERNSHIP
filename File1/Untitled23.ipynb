{
 "cells": [
  {
   "cell_type": "code",
   "execution_count": 7,
   "id": "7bdffc19-013e-4468-8f01-bb4909da9aff",
   "metadata": {},
   "outputs": [],
   "source": [
    "import re\n",
    "import regex as re"
   ]
  },
  {
   "cell_type": "code",
   "execution_count": 18,
   "id": "c0add3c6-573c-4d7b-b53e-a888fd13c20f",
   "metadata": {},
   "outputs": [
    {
     "name": "stdout",
     "output_type": "stream",
     "text": [
      "Phython:Excercises::PHP:excercises:\n"
     ]
    }
   ],
   "source": [
    "string='Phython Excercises, PHP excercises.'\n",
    "op=re.sub(\"\\s\",\":\",string)\n",
    "op1=re.sub(\",\",\":\",op)\n",
    "finalop=re.sub(\"\\.\",\":\",op1)\n",
    "print(finalop)\n"
   ]
  },
  {
   "cell_type": "code",
   "execution_count": 83,
   "id": "6218d4ac-ab29-4af9-96a1-f07868166711",
   "metadata": {},
   "outputs": [
    {
     "name": "stdout",
     "output_type": "stream",
     "text": [
      "                SUMMARY\n",
      "0          Hello,world!\n",
      "1            XXXXX test\n",
      "2  123four,five:;six...\n"
     ]
    }
   ],
   "source": [
    "import pandas as pd\n",
    "\n",
    "dict=pd.DataFrame({'SUMMARY':['Hello,world!','XXXXX test','123four,five:;six...']})\n",
    "print(dict)"
   ]
  },
  {
   "cell_type": "code",
   "execution_count": 84,
   "id": "c04e6c2e-eff3-46a3-8c14-9206cff541d6",
   "metadata": {},
   "outputs": [
    {
     "name": "stdout",
     "output_type": "stream",
     "text": [
      "Helloworld\n",
      "XXXXX test\n",
      "123fourfivesix\n"
     ]
    }
   ],
   "source": [
    "def abc(text):\n",
    "    t=re.sub(r'[^\\w\\s]', '', text)\n",
    "    print(t)\n",
    "\n",
    "dict['SUMMARY']=dict['SUMMARY'].apply(abc)"
   ]
  },
  {
   "cell_type": "code",
   "execution_count": 90,
   "id": "550b702f-6135-4365-a699-2005dfe2741a",
   "metadata": {},
   "outputs": [
    {
     "name": "stdout",
     "output_type": "stream",
     "text": [
      "['this', 'from', 'Batch', 'Data']\n"
     ]
    }
   ],
   "source": [
    "#Answer 4\n",
    "pat= re.compile(r'\\b\\w{3,5}\\b')\n",
    "string1='this is Mayank Chhabra from DS2404 Batch of Data Science'\n",
    "op=pat.findall(string1)\n",
    "print(op)"
   ]
  },
  {
   "cell_type": "code",
   "execution_count": 104,
   "id": "1d080747-9a24-40d1-a4b2-10d259994f3a",
   "metadata": {},
   "outputs": [
    {
     "name": "stdout",
     "output_type": "stream",
     "text": [
      "['this', 'Mayank', 'Chhabra', 'from', 'Panchkula', 'studyinf', 'data', 'science']\n"
     ]
    }
   ],
   "source": [
    "#Answer 3\n",
    "pat= re.compile(r'\\b\\w{4,}\\b')\n",
    "string2='this is Mayank Chhabra from Panchkula studyinf data science'\n",
    "op=pat.findall(string2)\n",
    "print(op)"
   ]
  },
  {
   "cell_type": "code",
   "execution_count": 162,
   "id": "b7d25b0b-7682-475e-9c92-3a5aca38f47e",
   "metadata": {},
   "outputs": [
    {
     "name": "stdout",
     "output_type": "stream",
     "text": [
      "example .com\n",
      "hr@fliprobo .com\n",
      "github .com\n",
      "Hello Data Science World\n",
      "Data Scientist\n"
     ]
    }
   ],
   "source": [
    "Answer 5\n",
    "def abc(xyz):\n",
    "    pattern = re.compile(r\"\\(|\\)\")\n",
    "    for msg in xyz:\n",
    "        op=re.sub(pattern, \"\", msg)\n",
    "        print(op)\n",
    "         \n",
    "     \n",
    "\n",
    "\n",
    "  \n",
    "text = ['example (.com)', 'hr@fliprobo (.com)', 'github (.com)', 'Hello (Data Science World)', 'Data (Scientist)']\n",
    "result = abc(text)\n",
    "\n",
    " \n",
    "    \n",
    " \n",
    "\n"
   ]
  },
  {
   "cell_type": "code",
   "execution_count": 163,
   "id": "3ec6a07b-7a0f-4eae-8940-c67899042f85",
   "metadata": {},
   "outputs": [
    {
     "name": "stdout",
     "output_type": "stream",
     "text": [
      "example\n",
      "hr@fliprobo\n",
      "github\n",
      "Hello\n",
      "Data\n"
     ]
    }
   ],
   "source": [
    "#Answer6\n",
    "def abc(xyz):\n",
    "    pattern = re.compile(r\" ?\\([^)]+\\)\")\n",
    "    for msg in xyz:\n",
    "        op=re.sub(pattern, \"\", msg)\n",
    "        print(op)\n",
    "         \n",
    "     \n",
    "\n",
    "\n",
    "  \n",
    "text = ['example (.com)', 'hr@fliprobo (.com)', 'github (.com)', 'Hello (Data Science World)', 'Data (Scientist)']\n",
    "result = abc(text)"
   ]
  },
  {
   "cell_type": "code",
   "execution_count": 165,
   "id": "60119bf6-3831-43ff-a366-5e40087f9f73",
   "metadata": {},
   "outputs": [
    {
     "data": {
      "text/plain": [
       "['Importance', 'Of', 'Regular', 'Expressions', 'In', 'Python']"
      ]
     },
     "execution_count": 165,
     "metadata": {},
     "output_type": "execute_result"
    }
   ],
   "source": [
    "#Answer 7\n",
    "Sample_text='ImportanceOfRegularExpressionsInPython'\n",
    "re.split('(?<=.)(?=[A-Z])',Sample_text)\n",
    "\n"
   ]
  },
  {
   "cell_type": "code",
   "execution_count": 178,
   "id": "7ff1f708-97d2-481d-8559-073285ff19a4",
   "metadata": {},
   "outputs": [
    {
     "name": "stdout",
     "output_type": "stream",
     "text": [
      "RegularExpression1 IsAn2 ImportantTopic3 InPython\n"
     ]
    }
   ],
   "source": [
    "Answer 8\n",
    "def pqr(text):\n",
    "    pattern = r'(\\d+)(\\D+)'\n",
    "    result = re.sub(pattern, r'\\1 \\2', text)\n",
    "    return result\n",
    "\n",
    "text = 'RegularExpression1IsAn2ImportantTopic3InPython'\n",
    "output = pqr(text) \n",
    "print(output)\n",
    "\n"
   ]
  },
  {
   "cell_type": "code",
   "execution_count": 184,
   "id": "3b8f3f26-037b-42ba-abe0-f0200d24352d",
   "metadata": {},
   "outputs": [
    {
     "name": "stdout",
     "output_type": "stream",
     "text": [
      " Regular Expression1 Is An2 Important Topic3 In Python\n"
     ]
    }
   ],
   "source": [
    "#Answer 9\n",
    "def ghi(text):\n",
    "    pattern = r'([A-Z][a-z0-9]+|\\d+)'\n",
    "    result = re.sub(pattern, r' \\1', text)\n",
    "    return result\n",
    "\n",
    "\n",
    "tex = 'RegularExpression1IsAn2ImportantTopic3InPython'\n",
    "output = ghi(tex)\n",
    "print(output)"
   ]
  },
  {
   "cell_type": "code",
   "execution_count": 187,
   "id": "05dd70c3-4cda-4672-b33f-586f1618ff4a",
   "metadata": {},
   "outputs": [
    {
     "name": "stdout",
     "output_type": "stream",
     "text": [
      "Data Line does not match the pattern\n"
     ]
    }
   ],
   "source": [
    "#Answer 11\n",
    "def xyz(ppc):\n",
    "    pattern = r'^[a-zA-Z0-9_]+$'\n",
    "    if re.match(pattern, ppc):\n",
    "         print(\"Data Line matches the pattern\")\n",
    "    else:\n",
    "        print(\"Data Line does not match the pattern\")\n",
    "        \n",
    "line='My name is Mayank_a9'\n",
    "xyz(line)"
   ]
  },
  {
   "cell_type": "code",
   "execution_count": 189,
   "id": "9b939c9d-4e14-40b4-91e1-0bcbeb801e53",
   "metadata": {},
   "outputs": [
    {
     "name": "stdout",
     "output_type": "stream",
     "text": [
      "216.8.94.196\n"
     ]
    }
   ],
   "source": [
    "#Answer 13\n",
    "ip_address = \"216.08.094.196\"\n",
    "data = re.sub('\\.[0]*', '.', ip_address)\n",
    "print(data)"
   ]
  },
  {
   "cell_type": "code",
   "execution_count": 295,
   "id": "c871d75c-4706-4b31-967f-992cf1d53cfb",
   "metadata": {},
   "outputs": [
    {
     "data": {
      "text/plain": [
       "<regex.Match object; span=(16, 19), match='fox'>"
      ]
     },
     "execution_count": 295,
     "metadata": {},
     "output_type": "execute_result"
    }
   ],
   "source": [
    "#Answer 15\n",
    "pattern = 'fox|dog|horse'\n",
    "text = 'The quick brown fox jumps over the lazy dog.'\n",
    "match = re.search(pattern, text)\n",
    "match"
   ]
  },
  {
   "cell_type": "code",
   "execution_count": 296,
   "id": "3f58e061-773f-4a62-ba3a-fce3fb7d81c2",
   "metadata": {},
   "outputs": [
    {
     "data": {
      "text/plain": [
       "<regex.Match object; span=(16, 19), match='fox'>"
      ]
     },
     "execution_count": 296,
     "metadata": {},
     "output_type": "execute_result"
    }
   ],
   "source": [
    "#Answer 16\n",
    "pattern = 'fox'\n",
    "text = 'The quick brown fox jumps over the lazy dog.'\n",
    "match = re.search(pattern, text)\n",
    "match"
   ]
  },
  {
   "cell_type": "code",
   "execution_count": 206,
   "id": "19d09f99-d91f-4071-a12f-69ef985b8bd1",
   "metadata": {},
   "outputs": [
    {
     "name": "stdout",
     "output_type": "stream",
     "text": [
      "['exercises', 'exercises', 'exercises']\n"
     ]
    }
   ],
   "source": [
    "#Answer 17\n",
    "data = 'Python exercises, PHP exercises, C# exercises'\n",
    "pattern = 'exercises'\n",
    "x=re.findall(pattern,data)\n",
    "print(x)\n",
    "  "
   ]
  },
  {
   "cell_type": "code",
   "execution_count": 208,
   "id": "7df33047-57ba-48ea-bd6f-20ed0a15c9a6",
   "metadata": {},
   "outputs": [
    {
     "name": "stdout",
     "output_type": "stream",
     "text": [
      "Befor COnversion:  2024-03-05\n"
     ]
    },
    {
     "data": {
      "text/plain": [
       "'05-03-2024'"
      ]
     },
     "execution_count": 208,
     "metadata": {},
     "output_type": "execute_result"
    }
   ],
   "source": [
    "#Anser 19\n",
    "def xyzz(dat):\n",
    "    return re.sub(r'(\\d{4})-(\\d{1,2})-(\\d{1,2})', '\\\\3-\\\\2-\\\\1', dat)\n",
    "        \n",
    "dat = \"2024-03-05\"\n",
    "print(\"Befor COnversion: \",dat)\n",
    "xyzz(dat)"
   ]
  },
  {
   "cell_type": "code",
   "execution_count": 213,
   "id": "1e589bdb-d5f3-4649-8efb-7bd20af967ac",
   "metadata": {},
   "outputs": [
    {
     "name": "stdout",
     "output_type": "stream",
     "text": [
      "['', '100', '120', '']\n",
      "<regex.Match object; span=(10, 13), match='100'>\n"
     ]
    }
   ],
   "source": [
    "#aNSWER 21\n",
    "data = \"There are 100 oranges and 120 bananas with me\"\n",
    "output = re.split(\"\\D+\", data)\n",
    "output2 = re.search(\"\\d+\", data)\n",
    "print(output)\n",
    "print(output2)"
   ]
  },
  {
   "cell_type": "code",
   "execution_count": 289,
   "id": "4066b0eb-7591-4e92-9220-74dc75028361",
   "metadata": {},
   "outputs": [
    {
     "data": {
      "text/plain": [
       "950"
      ]
     },
     "execution_count": 289,
     "metadata": {},
     "output_type": "execute_result"
    }
   ],
   "source": [
    "#Answer 22\n",
    "DATA = 'My marks in each semester are: 947, 896, 926, 524, 734, 950, 642'\n",
    "\n",
    "Op = re.findall(r'\\d+',DATA)\n",
    "Op= [int(value) for value in Op]\n",
    "Op.sort()\n",
    "Op[-1]\n",
    "\n",
    "\n",
    "\n",
    "      \n",
    "\n",
    "\n",
    "\n"
   ]
  },
  {
   "cell_type": "code",
   "execution_count": 290,
   "id": "76e7674f-0ff8-42db-94e8-b0bd51f9a256",
   "metadata": {},
   "outputs": [
    {
     "name": "stdout",
     "output_type": "stream",
     "text": [
      " Regular Expression Is An Important Topic In Python\n"
     ]
    }
   ],
   "source": [
    "#Answer 23\n",
    "def aaa(text):\n",
    "    pattern = r'([A-Z][a-z]+)'\n",
    "    output = re.sub(pattern, r' \\1', text)\n",
    "    return output\n",
    "    \n",
    "\n",
    "\n",
    "Data = \"RegularExpressionIsAnImportantTopicInPython\"\n",
    "op = aaa(Data)\n",
    "print(op)"
   ]
  },
  {
   "cell_type": "code",
   "execution_count": 291,
   "id": "7b8d9b50-90fb-48c9-8d05-b7baa869150a",
   "metadata": {},
   "outputs": [
    {
     "name": "stdout",
     "output_type": "stream",
     "text": [
      "['India', 'Is', 'Country', 'Different', 'Culture']\n"
     ]
    }
   ],
   "source": [
    "#Answer 24\n",
    "pattern = r'[A-Z][a-z]+'\n",
    "Data = \"India Is A Country with Different Culture\"\n",
    "\n",
    "matches = re.findall(pattern, Data)\n",
    "print(matches)"
   ]
  },
  {
   "cell_type": "code",
   "execution_count": 292,
   "id": "c9b226f5-6bd6-4bc0-bac6-3dd37c956a08",
   "metadata": {},
   "outputs": [
    {
     "name": "stdout",
     "output_type": "stream",
     "text": [
      "Hello hello world\n"
     ]
    }
   ],
   "source": [
    "#Answer 25\n",
    "def aaa(text):\n",
    "    pattern = r'\\b(\\w+)(\\s+\\1\\b)+'\n",
    "    op = re.sub(pattern, r'\\1', text)\n",
    "    return op\n",
    "  \n",
    "text = \"Hello hello world world\"\n",
    "output = aaa(text)\n",
    "print(output)"
   ]
  },
  {
   "cell_type": "code",
   "execution_count": 293,
   "id": "88a78d77-362b-4fb6-b3e2-0291c42031e0",
   "metadata": {},
   "outputs": [
    {
     "name": "stdin",
     "output_type": "stream",
     "text": [
      "Enter a string:  sasa\n"
     ]
    },
    {
     "name": "stdout",
     "output_type": "stream",
     "text": [
      "String ends with an alphanumeric character\n"
     ]
    }
   ],
   "source": [
    "#Answer 26\n",
    "\n",
    "def ppp(data):\n",
    "    pattern = r\"\\w$\"\n",
    "    match = re.search(pattern, data)\n",
    "    if match:\n",
    "        return True\n",
    "    else:\n",
    "        return False\n",
    "  \n",
    "a = input(\"Enter a string: \")\n",
    "if ppp(a):\n",
    "    print(\"String ends with an alphanumeric character\")\n",
    "\n",
    "else:\n",
    "    print(\"String does not end with an alphanumeric character\")\n",
    " "
   ]
  },
  {
   "cell_type": "code",
   "execution_count": null,
   "id": "7d127e3f-c39e-4c1d-b1c0-c90b632b4953",
   "metadata": {},
   "outputs": [],
   "source": []
  }
 ],
 "metadata": {
  "kernelspec": {
   "display_name": "Python 3 (ipykernel)",
   "language": "python",
   "name": "python3"
  },
  "language_info": {
   "codemirror_mode": {
    "name": "ipython",
    "version": 3
   },
   "file_extension": ".py",
   "mimetype": "text/x-python",
   "name": "python",
   "nbconvert_exporter": "python",
   "pygments_lexer": "ipython3",
   "version": "3.11.7"
  }
 },
 "nbformat": 4,
 "nbformat_minor": 5
}
